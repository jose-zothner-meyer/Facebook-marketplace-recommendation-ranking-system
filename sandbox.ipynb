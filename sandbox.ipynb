{
 "cells": [
  {
   "cell_type": "code",
   "execution_count": 1,
   "metadata": {},
   "outputs": [
    {
     "name": "stdout",
     "output_type": "stream",
     "text": [
      "Loading data...\n",
      "Data loaded successfully from data/Cleaned_Products.csv and data/Images.csv.\n",
      "Extracting root categories...\n",
      "Root categories extracted.\n",
      "Creating encoder and decoder...\n",
      "Encoder and decoder created.\n",
      "Assigning labels...\n",
      "Labels assigned.\n",
      "Merging images data with product data...\n",
      "Images data merged successfully.\n",
      "Preparing training data...\n",
      "Training data prepared.\n",
      "Saving labeled data to data/training_data.csv...\n",
      "Labeled data saved to data/training_data.csv.\n",
      "Encoder: {'Home & Garden': 0, 'Baby & Kids Stuff': 1, 'DIY Tools & Materials': 2, 'Music, Films, Books & Games': 3, 'Phones, Mobile Phones & Telecoms': 4, 'Clothes, Footwear & Accessories': 5, 'Other Goods': 6, 'Health & Beauty': 7, 'Sports, Leisure & Travel': 8, 'Appliances': 9, 'Computers & Software': 10, 'Office Furniture & Equipment': 11, 'Video Games & Consoles': 12}\n",
      "Decoder: {0: 'Home & Garden', 1: 'Baby & Kids Stuff', 2: 'DIY Tools & Materials', 3: 'Music, Films, Books & Games', 4: 'Phones, Mobile Phones & Telecoms', 5: 'Clothes, Footwear & Accessories', 6: 'Other Goods', 7: 'Health & Beauty', 8: 'Sports, Leisure & Travel', 9: 'Appliances', 10: 'Computers & Software', 11: 'Office Furniture & Equipment', 12: 'Video Games & Consoles'}\n"
     ]
    }
   ],
   "source": [
    "from product_labeler import ProductLabeler\n",
    "\n",
    "# Initialize the class with file paths\n",
    "labeler = ProductLabeler(\n",
    "    products_file=\"data/Cleaned_Products.csv\",   # Change if necessary\n",
    "    images_file=\"data/Images.csv\",              # Change if necessary\n",
    "    output_file=\"data/training_data.csv\"\n",
    ")\n",
    "\n",
    "# Process the data\n",
    "labeler.process()\n",
    "\n",
    "# Retrieve and print encoder/decoder mappings\n",
    "mappings = labeler.get_encoder_decoder()\n",
    "print(\"Encoder:\", mappings[\"encoder\"])\n",
    "print(\"Decoder:\", mappings[\"decoder\"])\n"
   ]
  }
 ],
 "metadata": {
  "kernelspec": {
   "display_name": "facebook",
   "language": "python",
   "name": "python3"
  },
  "language_info": {
   "codemirror_mode": {
    "name": "ipython",
    "version": 3
   },
   "file_extension": ".py",
   "mimetype": "text/x-python",
   "name": "python",
   "nbconvert_exporter": "python",
   "pygments_lexer": "ipython3",
   "version": "3.13.1"
  }
 },
 "nbformat": 4,
 "nbformat_minor": 2
}
