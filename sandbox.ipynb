{
 "cells": [
  {
   "cell_type": "code",
   "execution_count": 1,
   "metadata": {},
   "outputs": [
    {
     "name": "stdout",
     "output_type": "stream",
     "text": [
      "Training data has been saved as 'training_data.csv'.\n",
      "Encoder (Category to Label): {'Home & Garden': 0, 'Baby & Kids Stuff': 1, 'DIY Tools & Materials': 2, 'Music, Films, Books & Games': 3, 'Phones, Mobile Phones & Telecoms': 4, 'Clothes, Footwear & Accessories': 5, 'Other Goods': 6, 'Health & Beauty': 7, 'Sports, Leisure & Travel': 8, 'Appliances': 9, 'Computers & Software': 10, 'Office Furniture & Equipment': 11, 'Video Games & Consoles': 12}\n",
      "Decoder (Label to Category): {0: 'Home & Garden', 1: 'Baby & Kids Stuff', 2: 'DIY Tools & Materials', 3: 'Music, Films, Books & Games', 4: 'Phones, Mobile Phones & Telecoms', 5: 'Clothes, Footwear & Accessories', 6: 'Other Goods', 7: 'Health & Beauty', 8: 'Sports, Leisure & Travel', 9: 'Appliances', 10: 'Computers & Software', 11: 'Office Furniture & Equipment', 12: 'Video Games & Consoles'}\n"
     ]
    },
    {
     "data": {
      "text/html": [
       "<div>\n",
       "<style scoped>\n",
       "    .dataframe tbody tr th:only-of-type {\n",
       "        vertical-align: middle;\n",
       "    }\n",
       "\n",
       "    .dataframe tbody tr th {\n",
       "        vertical-align: top;\n",
       "    }\n",
       "\n",
       "    .dataframe thead th {\n",
       "        text-align: right;\n",
       "    }\n",
       "</style>\n",
       "<table border=\"1\" class=\"dataframe\">\n",
       "  <thead>\n",
       "    <tr style=\"text-align: right;\">\n",
       "      <th></th>\n",
       "      <th>id_x</th>\n",
       "      <th>labels</th>\n",
       "    </tr>\n",
       "  </thead>\n",
       "  <tbody>\n",
       "    <tr>\n",
       "      <th>0</th>\n",
       "      <td>912bb259-3ad9-457b-9db1-ce1da9016057</td>\n",
       "      <td>0</td>\n",
       "    </tr>\n",
       "    <tr>\n",
       "      <th>1</th>\n",
       "      <td>b166d305-b852-4bdd-83f4-465b20da94fa</td>\n",
       "      <td>0</td>\n",
       "    </tr>\n",
       "    <tr>\n",
       "      <th>2</th>\n",
       "      <td>68f5a29d-0075-4d60-81c1-ab684a82e50c</td>\n",
       "      <td>0</td>\n",
       "    </tr>\n",
       "    <tr>\n",
       "      <th>3</th>\n",
       "      <td>f6a309d7-d247-446a-9b5e-aceefdd4334d</td>\n",
       "      <td>0</td>\n",
       "    </tr>\n",
       "    <tr>\n",
       "      <th>4</th>\n",
       "      <td>2c2b3a6f-15b3-4289-937a-15482d9f5781</td>\n",
       "      <td>0</td>\n",
       "    </tr>\n",
       "  </tbody>\n",
       "</table>\n",
       "</div>"
      ],
      "text/plain": [
       "                                   id_x  labels\n",
       "0  912bb259-3ad9-457b-9db1-ce1da9016057       0\n",
       "1  b166d305-b852-4bdd-83f4-465b20da94fa       0\n",
       "2  68f5a29d-0075-4d60-81c1-ab684a82e50c       0\n",
       "3  f6a309d7-d247-446a-9b5e-aceefdd4334d       0\n",
       "4  2c2b3a6f-15b3-4289-937a-15482d9f5781       0"
      ]
     },
     "execution_count": 1,
     "metadata": {},
     "output_type": "execute_result"
    }
   ],
   "source": [
    "import pandas as pd\n",
    "\n",
    "# Step 1: Load the Data\n",
    "# Load the cleaned Products.csv and Images.csv\n",
    "df_pdt = pd.read_csv('data/Cleaned_Products.csv', lineterminator='\\n')\n",
    "df_img = pd.read_csv('data/Images.csv', lineterminator='\\n')\n",
    "\n",
    "# Step 2: Extract the Root Category\n",
    "# Extract the root category (text before the first slash in the 'category' column)\n",
    "df_pdt['root_category'] = df_pdt['category'].str.split('/').str[0].str.strip()\n",
    "\n",
    "# Step 3: Create the Encoder and Decoder\n",
    "# Get unique root categories\n",
    "unique_categories = df_pdt['root_category'].unique().tolist()\n",
    "\n",
    "# Create encoder (category -> integer) and decoder (integer -> category)\n",
    "encoder = {category: idx for idx, category in enumerate(unique_categories)}\n",
    "decoder = {idx: category for category, idx in encoder.items()}\n",
    "\n",
    "# Encode the root categories\n",
    "df_pdt['encoded_category'] = df_pdt['root_category'].map(encoder)\n",
    "\n",
    "# Step 4: Merge DataFrames\n",
    "# Merge Images.csv with the encoded product DataFrame on product ID\n",
    "merged_df = df_img.merge(df_pdt, left_on='product_id', right_on='id', how='inner')\n",
    "\n",
    "# Add a `labels` column for the image (id), which is the same as `encoded_category`\n",
    "merged_df['labels'] = merged_df['encoded_category']\n",
    "\n",
    "# Step 5: Retain Required Columns\n",
    "# Retain only image IDs (`id_x`) and their corresponding labels\n",
    "training_data = merged_df[['id_x', 'labels']]\n",
    "\n",
    "# Step 6: Save the Training Data\n",
    "# Save the final training data to a CSV file\n",
    "training_data.to_csv('data/training_data.csv', index=False)\n",
    "\n",
    "# Step 7: Display Encoder and Decoder\n",
    "# Print the encoder and decoder mappings for reference\n",
    "print(\"Training data has been saved as 'training_data.csv'.\")\n",
    "print(\"Encoder (Category to Label):\", encoder)\n",
    "print(\"Decoder (Label to Category):\", decoder)\n",
    "\n",
    "# Optional: Preview the training data\n",
    "training_data.head()\n"
   ]
  }
 ],
 "metadata": {
  "kernelspec": {
   "display_name": "facebook",
   "language": "python",
   "name": "python3"
  },
  "language_info": {
   "codemirror_mode": {
    "name": "ipython",
    "version": 3
   },
   "file_extension": ".py",
   "mimetype": "text/x-python",
   "name": "python",
   "nbconvert_exporter": "python",
   "pygments_lexer": "ipython3",
   "version": "3.13.1"
  }
 },
 "nbformat": 4,
 "nbformat_minor": 2
}
